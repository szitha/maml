{
 "cells": [
  {
   "cell_type": "code",
   "execution_count": 1,
   "metadata": {},
   "outputs": [],
   "source": [
    "import sys\n",
    "import numpy as np\n",
    "import matplotlib.pyplot as plt\n",
    "%matplotlib inline\n",
    "import random\n",
    "\n",
    "plt.rcParams['image.cmap'] = 'gray'\n",
    "plt.rcParams['image.interpolation'] = 'nearest'\n",
    "plt.rcParams['figure.figsize'] = (12, 12)"
   ]
  },
  {
   "cell_type": "code",
   "execution_count": 2,
   "metadata": {},
   "outputs": [
    {
     "name": "stdout",
     "output_type": "stream",
     "text": [
      "Populating the interactive namespace from numpy and matplotlib\n"
     ]
    },
    {
     "name": "stderr",
     "output_type": "stream",
     "text": [
      "/home/notshahil/anaconda3/lib/python3.7/site-packages/IPython/core/magics/pylab.py:160: UserWarning: pylab import has clobbered these variables: ['random']\n",
      "`%matplotlib` prevents importing * from pylab and numpy\n",
      "  \"\\n`%matplotlib` prevents importing * from pylab and numpy\"\n"
     ]
    }
   ],
   "source": [
    "%pylab inline\n"
   ]
  },
  {
   "cell_type": "code",
   "execution_count": 3,
   "metadata": {},
   "outputs": [],
   "source": [
    "def load_metric(expdir, metric='loss', split='tr', meta=True):\n",
    "    if meta:\n",
    "        tr = np.load(expdir + '/meta_{}_{}.npy'.format(split, metric))\n",
    "    else:\n",
    "        tr = np.load(expdir + '/{}_{}.npy'.format(split, metric))\n",
    "    return tr[tr>0]\n",
    "\n",
    "def smooth(arr, r):\n",
    "    smoothed = np.zeros(len(arr))\n",
    "    for i in range(len(arr)/r):\n",
    "        chunk = arr[i*r:i*r+r]\n",
    "        avg = np.sum(chunk) / len(chunk)\n",
    "        smoothed[i*r:i*r+r] = avg\n",
    "    return smoothed[smoothed >0]"
   ]
  },
  {
   "cell_type": "code",
   "execution_count": 4,
   "metadata": {},
   "outputs": [],
   "source": [
    "plt.rcParams['figure.figsize'] = (20, 8)\n",
    "\n",
    "def plot_metrics(expdir0):\n",
    "    plt.figure()\n",
    "    \n",
    "    plt.subplot(1,2,1)\n",
    "    plt.title('Loss')\n",
    "    t1, = plt.plot(smooth(load_metric(expdir0, 'loss', 'tr', False), 100))\n",
    "    t2, = plt.plot(smooth(load_metric(expdir0, 'loss', 'val', False), 100))\n",
    "    t3, = plt.plot(smooth(load_metric(expdir0, 'loss', 'tr'), 100))\n",
    "    t4, = plt.plot(smooth(load_metric(expdir0, 'loss', 'val'), 100))\n",
    "    #plt.ylim((0, 3))\n",
    "    #plt.xlim((0, 10000))\n",
    "\n",
    "\n",
    "    plt.subplot(1,2,2)\n",
    "    t1, = plt.plot(smooth(load_metric(expdir0, 'acc', 'tr', False), 10))\n",
    "    t2, = plt.plot(smooth(load_metric(expdir0, 'acc', 'val', False), 10))\n",
    "    t3, = plt.plot(smooth(load_metric(expdir0, 'acc', 'tr'), 10))\n",
    "    t4, = plt.plot(smooth(load_metric(expdir0, 'acc', 'val'), 10))\n",
    "    plt.legend([t1, t2, t3, t4], ['train','val', 'm-train', 'm-val'])\n",
    "    #plt.ylim((0, 1.05))\n",
    "    #plt.xlim((0, 10000))\n",
    "    plt.xlabel('Number of iterations')\n",
    "    plt.ylabel('Accuracy')"
   ]
  },
  {
   "cell_type": "code",
   "execution_count": 5,
   "metadata": {},
   "outputs": [],
   "source": [
    "expdir0 = '../output/maml-mnist-10way-5shot' \n",
    "expdir1 = '../output/maml-omniglot-5way-1shot-adam' \n",
    "expdir2 = '../output/maml-omniglot-20way-1shot-adam' \n",
    "\n",
    "#plot_metrics(expdir0)\n",
    "#plot_metrics(expdir1)\n",
    "#plot_metrics(expdir2)"
   ]
  },
  {
   "cell_type": "code",
   "execution_count": 6,
   "metadata": {},
   "outputs": [],
   "source": [
    "\n",
    "#plot_metrics(expdir00)"
   ]
  },
  {
   "cell_type": "code",
   "execution_count": 42,
   "metadata": {},
   "outputs": [],
   "source": [
    "primes = [ 2,3,5,7,  11,  13,  17,  19,  23,  29,  31,  37,  41]"
   ]
  },
  {
   "cell_type": "code",
   "execution_count": 43,
   "metadata": {},
   "outputs": [],
   "source": [
    "\n",
    "def get_phi(p, k):\n",
    "    p_ = p\n",
    "    k_ = k\n",
    "    phi = 0\n",
    "    while k_ > 0:\n",
    "        a = k_ % p\n",
    "        phi += a/p_\n",
    "        k_ = int(k_/p)\n",
    "        p_ *= p\n",
    "    return phi"
   ]
  },
  {
   "cell_type": "code",
   "execution_count": 44,
   "metadata": {},
   "outputs": [],
   "source": [
    "import numpy as np\n",
    "from six import moves"
   ]
  },
  {
   "cell_type": "code",
   "execution_count": 45,
   "metadata": {},
   "outputs": [],
   "source": [
    "def generate_hammersley(n_dims=1, n_points=5):\n",
    "    def f():\n",
    "        for k in moves.range(n_points):\n",
    "            points = [k/n_points] + [get_phi(primes[d], k) for d in moves.range(n_dims-1)]\n",
    "            yield points\n",
    "    return np.array(list(f()))    "
   ]
  },
  {
   "cell_type": "code",
   "execution_count": 46,
   "metadata": {},
   "outputs": [],
   "source": [
    "x = generate_hammersley"
   ]
  },
  {
   "cell_type": "code",
   "execution_count": 48,
   "metadata": {},
   "outputs": [
    {
     "data": {
      "text/plain": [
       "array([[0.        ],\n",
       "       [0.33333333],\n",
       "       [0.66666667]])"
      ]
     },
     "execution_count": 48,
     "metadata": {},
     "output_type": "execute_result"
    }
   ],
   "source": [
    "x(1,\n",
    "  3)"
   ]
  },
  {
   "cell_type": "code",
   "execution_count": 41,
   "metadata": {},
   "outputs": [
    {
     "name": "stdout",
     "output_type": "stream",
     "text": [
      "[]\n",
      "[]\n",
      "[]\n",
      "[]\n",
      "[]\n"
     ]
    }
   ],
   "source": [
    "n_dims=1\n",
    "n_points = 5\n",
    "for k in moves.range(n_points):\n",
    "    dd =[get_phi(primes[d], k) for d in moves.range(n_dims-1)]\n",
    "    \n",
    "    print (dd\n",
    "          )"
   ]
  },
  {
   "cell_type": "code",
   "execution_count": 49,
   "metadata": {},
   "outputs": [],
   "source": [
    "data =[1,2,3,5,6,7,78,8,8,89,9,9,90]"
   ]
  },
  {
   "cell_type": "code",
   "execution_count": 1,
   "metadata": {},
   "outputs": [],
   "source": [
    "import copy\n",
    "import random "
   ]
  },
  {
   "cell_type": "code",
   "execution_count": 34,
   "metadata": {},
   "outputs": [],
   "source": [
    "import numpy as np"
   ]
  },
  {
   "cell_type": "code",
   "execution_count": 2,
   "metadata": {},
   "outputs": [],
   "source": [
    "import chaospy"
   ]
  },
  {
   "cell_type": "code",
   "execution_count": 54,
   "metadata": {},
   "outputs": [],
   "source": [
    "def Hammersley(num_cls,g_type):\n",
    "    idxs = [];\n",
    "    distribution = chaospy.J(chaospy.Uniform(1, len(g_type)))\n",
    "    pul_sample = distribution.sample(num_cls, rule = \"M\")\n",
    "    while len(idxs)<num_cls:\n",
    "\n",
    "        print(pul_sample)\n",
    "        #rand=int(random.uniform(0, len(data)))\n",
    "        #print (rand)\n",
    "        for i in pul_sample:\n",
    "\n",
    "            if round(i) in idxs:\n",
    "                pass\n",
    "            else:\n",
    "                idxs.append(round(i));\n",
    "    #sample=[g_type[j] for j in idxs];\n",
    "    print (idxs)\n",
    "    return sample "
   ]
  },
  {
   "cell_type": "code",
   "execution_count": 85,
   "metadata": {},
   "outputs": [],
   "source": [
    "def Hammersley(num_cls,g_type):\n",
    "    idxs = [];\n",
    "    distribution = chaospy.J(chaospy.Uniform(1, len(g_type)))\n",
    "    pul_sample = distribution.sample(num_cls, rule = \"M\")\n",
    "\n",
    "    print(pul_sample)\n",
    "    for i in pul_sample:\n",
    "        idxs.append(int((i)))\n",
    "        \n",
    "    indexes = np.unique(idxs, return_index=True)[1]\n",
    "    unsort = [idxs[index] for index in sorted(indexes)]\n",
    "    \n",
    "    sample=[g_type[j] for j in idxs];\n",
    "    return sample"
   ]
  },
  {
   "cell_type": "code",
   "execution_count": null,
   "metadata": {},
   "outputs": [],
   "source": []
  },
  {
   "cell_type": "code",
   "execution_count": 89,
   "metadata": {},
   "outputs": [],
   "source": [
    "g_type=['yy','rr', 'ee','qq','s','www','ereee','rrr','ttt','ttt','eee','tre','wgh','wfger','dddd','eeeeee','tttttt','yyyyyy','rrrrrrrrr','fgf']"
   ]
  },
  {
   "cell_type": "code",
   "execution_count": 65,
   "metadata": {},
   "outputs": [],
   "source": [
    "#d =chaospy.J(chaospy.Uniform(0, 20))"
   ]
  },
  {
   "cell_type": "code",
   "execution_count": 66,
   "metadata": {},
   "outputs": [],
   "source": [
    "#d.sample(5)"
   ]
  },
  {
   "cell_type": "code",
   "execution_count": 90,
   "metadata": {},
   "outputs": [
    {
     "name": "stdout",
     "output_type": "stream",
     "text": [
      "[15.25   3.375 12.875  8.125 17.625]\n"
     ]
    }
   ],
   "source": [
    "s = Hammersley(5,g_type)"
   ]
  },
  {
   "cell_type": "code",
   "execution_count": 91,
   "metadata": {},
   "outputs": [
    {
     "data": {
      "text/plain": [
       "['eeeeee', 'qq', 'wgh', 'ttt', 'yyyyyy']"
      ]
     },
     "execution_count": 91,
     "metadata": {},
     "output_type": "execute_result"
    }
   ],
   "source": [
    "s"
   ]
  },
  {
   "cell_type": "code",
   "execution_count": 84,
   "metadata": {},
   "outputs": [],
   "source": [
    "a=np.unique(s)"
   ]
  },
  {
   "cell_type": "code",
   "execution_count": 81,
   "metadata": {},
   "outputs": [
    {
     "data": {
      "text/plain": [
       "array([ 2,  5,  9, 10, 12])"
      ]
     },
     "execution_count": 81,
     "metadata": {},
     "output_type": "execute_result"
    }
   ],
   "source": [
    "a"
   ]
  },
  {
   "cell_type": "code",
   "execution_count": 82,
   "metadata": {},
   "outputs": [
    {
     "data": {
      "text/plain": [
       "array([1, 3, 2, 0, 4])"
      ]
     },
     "execution_count": 82,
     "metadata": {},
     "output_type": "execute_result"
    }
   ],
   "source": [
    "b\n"
   ]
  },
  {
   "cell_type": "code",
   "execution_count": null,
   "metadata": {},
   "outputs": [],
   "source": [
    "ex_17 = \"17. Sampling by taking samples from a uniform distribution, \\\n",
    " and treat them as the random generated index.\";\n",
    "def sampling_17(data, n=num_cls):\n",
    "    idxs = [];\n",
    "    while len(idxs)<n:\n",
    "        distribution = chaospy.J(chaospy.Uniform(0, len(data)))\n",
    "        pul_sample = distribution.sample(num_cls, rule = \"M\")\n",
    "        rand=int(random.uniform(0, len(data)))\n",
    "        if rand in idxs:\n",
    "            pass\n",
    "        else:\n",
    "            idxs.append(rand);\n",
    "    sample=[data[i] for i in idxs];\n",
    "    return sample"
   ]
  }
 ],
 "metadata": {
  "kernelspec": {
   "display_name": "Python 3",
   "language": "python",
   "name": "python3"
  },
  "language_info": {
   "codemirror_mode": {
    "name": "ipython",
    "version": 3
   },
   "file_extension": ".py",
   "mimetype": "text/x-python",
   "name": "python",
   "nbconvert_exporter": "python",
   "pygments_lexer": "ipython3",
   "version": "3.7.3"
  }
 },
 "nbformat": 4,
 "nbformat_minor": 2
}
