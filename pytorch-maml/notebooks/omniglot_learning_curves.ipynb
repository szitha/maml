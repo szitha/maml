{
 "cells": [
  {
   "cell_type": "code",
   "execution_count": 1,
   "metadata": {},
   "outputs": [],
   "source": [
    "import sys\n",
    "import numpy as np\n",
    "import matplotlib.pyplot as plt\n",
    "%matplotlib inline\n",
    "import random\n",
    "\n",
    "plt.rcParams['image.cmap'] = 'gray'\n",
    "plt.rcParams['image.interpolation'] = 'nearest'\n",
    "plt.rcParams['figure.figsize'] = (12, 12)"
   ]
  },
  {
   "cell_type": "code",
   "execution_count": 2,
   "metadata": {},
   "outputs": [
    {
     "name": "stdout",
     "output_type": "stream",
     "text": [
      "Populating the interactive namespace from numpy and matplotlib\n"
     ]
    },
    {
     "name": "stderr",
     "output_type": "stream",
     "text": [
      "/home/simphiwe/fsLearningAllan/Venv/lib/python2.7/site-packages/IPython/core/magics/pylab.py:161: UserWarning: pylab import has clobbered these variables: ['random']\n",
      "`%matplotlib` prevents importing * from pylab and numpy\n",
      "  \"\\n`%matplotlib` prevents importing * from pylab and numpy\"\n"
     ]
    }
   ],
   "source": [
    "%pylab inline\n"
   ]
  },
  {
   "cell_type": "code",
   "execution_count": 3,
   "metadata": {},
   "outputs": [],
   "source": [
    "def load_metric(expdir, metric='loss', split='tr', meta=True):\n",
    "    if meta:\n",
    "        tr = np.load(expdir + '/meta_{}_{}.npy'.format(split, metric))\n",
    "    else:\n",
    "        tr = np.load(expdir + '/{}_{}.npy'.format(split, metric))\n",
    "    return tr[tr>0]\n",
    "\n",
    "def smooth(arr, r):\n",
    "    smoothed = np.zeros(len(arr))\n",
    "    for i in range(len(arr)/r):\n",
    "        chunk = arr[i*r:i*r+r]\n",
    "        avg = np.sum(chunk) / len(chunk)\n",
    "        smoothed[i*r:i*r+r] = avg\n",
    "    return smoothed[smoothed >0]"
   ]
  },
  {
   "cell_type": "code",
   "execution_count": 4,
   "metadata": {},
   "outputs": [],
   "source": [
    "plt.rcParams['figure.figsize'] = (20, 8)\n",
    "\n",
    "def plot_metrics(expdir0):\n",
    "    plt.figure()\n",
    "    \n",
    "    plt.subplot(1,2,1)\n",
    "    plt.title('Loss')\n",
    "    t1, = plt.plot(smooth(load_metric(expdir0, 'loss', 'tr', False), 100))\n",
    "    t2, = plt.plot(smooth(load_metric(expdir0, 'loss', 'val', False), 100))\n",
    "    t3, = plt.plot(smooth(load_metric(expdir0, 'loss', 'tr'), 100))\n",
    "    t4, = plt.plot(smooth(load_metric(expdir0, 'loss', 'val'), 100))\n",
    "    #plt.ylim((0, 3))\n",
    "    #plt.xlim((0, 10000))\n",
    "\n",
    "\n",
    "    plt.subplot(1,2,2)\n",
    "    t1, = plt.plot(smooth(load_metric(expdir0, 'acc', 'tr', False), 10))\n",
    "    t2, = plt.plot(smooth(load_metric(expdir0, 'acc', 'val', False), 10))\n",
    "    t3, = plt.plot(smooth(load_metric(expdir0, 'acc', 'tr'), 10))\n",
    "    t4, = plt.plot(smooth(load_metric(expdir0, 'acc', 'val'), 10))\n",
    "    plt.legend([t1, t2, t3, t4], ['train','val', 'm-train', 'm-val'])\n",
    "    #plt.ylim((0, 1.05))\n",
    "    #plt.xlim((0, 10000))\n",
    "    plt.xlabel('Number of iterations')\n",
    "    plt.ylabel('Accuracy')"
   ]
  },
  {
   "cell_type": "code",
   "execution_count": 7,
   "metadata": {},
   "outputs": [],
   "source": [
    "expdir0 = '../output/maml-mnist-10way-5shot' \n",
    "expdir1 = '../output/maml-omniglot-5way-1shot-adam' \n",
    "expdir2 = '../output/maml-omniglot-20way-1shot-adam' \n",
    "\n",
    "#plot_metrics(expdir0)\n",
    "#plot_metrics(expdir1)\n",
    "#plot_metrics(expdir2)"
   ]
  },
  {
   "cell_type": "code",
   "execution_count": 6,
   "metadata": {},
   "outputs": [
    {
     "data": {
      "image/png": "[encoded data removed]",
      "text/plain": [
       "<Figure size 1440x576 with 2 Axes>"
      ]
     },
     "metadata": {},
     "output_type": "display_data"
    }
   ],
   "source": [
    "\n",
    "#plot_metrics(expdir00)"
   ]
  },
  {
   "cell_type": "code",
   "execution_count": null,
   "metadata": {},
   "outputs": [],
   "source": []
  }
 ],
 "metadata": {
  "kernelspec": {
   "display_name": "Python 2",
   "language": "python",
   "name": "python2"
  },
  "language_info": {
   "codemirror_mode": {
    "name": "ipython",
    "version": 2
   },
   "file_extension": ".py",
   "mimetype": "text/x-python",
   "name": "python",
   "nbconvert_exporter": "python",
   "pygments_lexer": "ipython2",
   "version": "2.7.12"
  }
 },
 "nbformat": 4,
 "nbformat_minor": 2
}
